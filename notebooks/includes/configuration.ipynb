{
 "cells": [
  {
   "cell_type": "code",
   "execution_count": 0,
   "metadata": {
    "application/vnd.databricks.v1+cell": {
     "cellMetadata": {
      "byteLimit": 2048000,
      "rowLimit": 10000
     },
     "inputWidgets": {},
     "nuid": "77a88968-e006-490f-ac51-cda5f79acf3e",
     "showTitle": false,
     "tableResultSettingsMap": {},
     "title": ""
    }
   },
   "outputs": [],
   "source": [
    "# Databricks notebook source\n",
    "user_path = \"file:/Workspace/Users/user-onkrwicnhycx@oreilly-cloudlabs.com/\"\n",
    "raw_folder_path = \"/mnt/formula1dl/raw/\"\n",
    "trusted_folder_path = \"/mnt/formula1dl/trusted/\"\n",
    "refined_folder_path = \"/mnt/formula1dl/refined/\"\n",
    "\n",
    "# COMMAND ----------\n",
    "\n",
    "display(dbutils.fs.ls(\"file:/Workspace/Users/user-onkrwicnhycx@oreilly-cloudlabs.com/\"))"
   ]
  },
  {
   "cell_type": "code",
   "execution_count": 0,
   "metadata": {
    "application/vnd.databricks.v1+cell": {
     "cellMetadata": {
      "byteLimit": 2048000,
      "rowLimit": 10000
     },
     "inputWidgets": {},
     "nuid": "f410ebb7-d480-4968-8494-f2d4b909ade5",
     "showTitle": false,
     "tableResultSettingsMap": {},
     "title": ""
    }
   },
   "outputs": [],
   "source": [
    "display(dbutils.fs.ls(\"file:/Workspace/Users/\"))"
   ]
  }
 ],
 "metadata": {
  "application/vnd.databricks.v1+notebook": {
   "computePreferences": null,
   "dashboards": [],
   "environmentMetadata": {
    "base_environment": "",
    "client": "1"
   },
   "language": "python",
   "notebookMetadata": {
    "pythonIndentUnit": 4
   },
   "notebookName": "configuration",
   "widgets": {}
  },
  "language_info": {
   "name": "python"
  }
 },
 "nbformat": 4,
 "nbformat_minor": 0
}
