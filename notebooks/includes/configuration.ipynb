{
 "cells": [
  {
   "cell_type": "code",
   "execution_count": 0,
   "metadata": {
    "application/vnd.databricks.v1+cell": {
     "cellMetadata": {
      "byteLimit": 2048000,
      "rowLimit": 10000
     },
     "inputWidgets": {},
     "nuid": "77a88968-e006-490f-ac51-cda5f79acf3e",
     "showTitle": false,
     "tableResultSettingsMap": {},
     "title": ""
    }
   },
   "outputs": [],
   "source": [
    "# Databricks notebook source\n",
    "user_path = \"file:/Workspace/Users/user-gwpzcrnugrln@oreilly-cloudlabs.com/\"\n",
    "raw_folder_path = \"/mnt/formula1dl/raw/\"\n",
    "trusted_folder_path = \"/mnt/formula1dl/trusted/\"\n",
    "refined_folder_path = \"/mnt/formula1dl/refined/\"\n",
    "\n",
    "# COMMAND ----------\n",
    "\n",
    "display(dbutils.fs.ls(\"file:/Workspace/Users/user-gwpzcrnugrln@oreilly-cloudlabs.com/\"))"
   ]
  }
 ],
 "metadata": {
  "application/vnd.databricks.v1+notebook": {
   "computePreferences": null,
   "dashboards": [],
   "environmentMetadata": {
    "base_environment": "",
    "client": "1"
   },
   "language": "python",
   "notebookMetadata": {
    "pythonIndentUnit": 4
   },
   "notebookName": "configuration",
   "widgets": {}
  },
  "language_info": {
   "name": "python"
  }
 },
 "nbformat": 4,
 "nbformat_minor": 0
}
